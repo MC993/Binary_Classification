{
 "cells": [
  {
   "cell_type": "code",
   "execution_count": 1,
   "metadata": {
    "_cell_guid": "b1076dfc-b9ad-4769-8c92-a6c4dae69d19",
    "_uuid": "8f2839f25d086af736a60e9eeb907d3b93b6e0e5",
    "execution": {
     "iopub.execute_input": "2025-08-20T06:51:23.757387Z",
     "iopub.status.busy": "2025-08-20T06:51:23.757153Z",
     "iopub.status.idle": "2025-08-20T06:51:26.274662Z",
     "shell.execute_reply": "2025-08-20T06:51:26.273990Z",
     "shell.execute_reply.started": "2025-08-20T06:51:23.757358Z"
    },
    "trusted": true
   },
   "outputs": [
    {
     "name": "stdout",
     "output_type": "stream",
     "text": [
      "/kaggle/input/binary-classification/train.csv\n",
      "/kaggle/input/binary-classification/test.csv\n"
     ]
    }
   ],
   "source": [
    "# This Python 3 environment comes with many helpful analytics libraries installed\n",
    "# It is defined by the kaggle/python Docker image: https://github.com/kaggle/docker-python\n",
    "# For example, here's several helpful packages to load\n",
    "\n",
    "import numpy as np # linear algebra\n",
    "import pandas as pd # data processing, CSV file I/O (e.g. pd.read_csv)\n",
    "\n",
    "# Input data files are available in the read-only \"../input/\" directory\n",
    "# For example, running this (by clicking run or pressing Shift+Enter) will list all files under the input directory\n",
    "\n",
    "import os\n",
    "for dirname, _, filenames in os.walk('/kaggle/input'):\n",
    "    for filename in filenames:\n",
    "        print(os.path.join(dirname, filename))\n",
    "\n",
    "# You can write up to 20GB to the current directory (/kaggle/working/) that gets preserved as output when you create a version using \"Save & Run All\" \n",
    "# You can also write temporary files to /kaggle/temp/, but they won't be saved outside of the current session"
   ]
  },
  {
   "cell_type": "code",
   "execution_count": 2,
   "metadata": {
    "execution": {
     "iopub.execute_input": "2025-08-20T06:51:26.276625Z",
     "iopub.status.busy": "2025-08-20T06:51:26.276302Z",
     "iopub.status.idle": "2025-08-20T06:51:29.030153Z",
     "shell.execute_reply": "2025-08-20T06:51:29.029402Z",
     "shell.execute_reply.started": "2025-08-20T06:51:26.276607Z"
    },
    "trusted": true
   },
   "outputs": [
    {
     "name": "stdout",
     "output_type": "stream",
     "text": [
      "First 5 rows of train_df: \n",
      "    id  age          job  marital  education default  balance housing loan  \\\n",
      "0   0   42   technician  married  secondary      no        7      no   no   \n",
      "1   1   38  blue-collar  married  secondary      no      514      no   no   \n",
      "2   2   36  blue-collar  married  secondary      no      602     yes   no   \n",
      "3   3   27      student   single  secondary      no       34     yes   no   \n",
      "4   4   26   technician  married  secondary      no      889     yes   no   \n",
      "\n",
      "    contact  day month  duration  campaign  pdays  previous poutcome  y  \n",
      "0  cellular   25   aug       117         3     -1         0  unknown  0  \n",
      "1   unknown   18   jun       185         1     -1         0  unknown  0  \n",
      "2   unknown   14   may       111         2     -1         0  unknown  0  \n",
      "3   unknown   28   may        10         2     -1         0  unknown  0  \n",
      "4  cellular    3   feb       902         1     -1         0  unknown  1  \n",
      "First 5 rows of test_df: \n",
      "        id  age            job  marital  education default  balance housing  \\\n",
      "0  750000   32    blue-collar  married  secondary      no     1397     yes   \n",
      "1  750001   44     management  married   tertiary      no       23     yes   \n",
      "2  750002   36  self-employed  married    primary      no       46     yes   \n",
      "3  750003   58    blue-collar  married  secondary      no    -1380     yes   \n",
      "4  750004   28     technician   single  secondary      no     1950     yes   \n",
      "\n",
      "  loan   contact  day month  duration  campaign  pdays  previous poutcome  \n",
      "0   no   unknown   21   may       224         1     -1         0  unknown  \n",
      "1   no  cellular    3   apr       586         2     -1         0  unknown  \n",
      "2  yes  cellular   13   may       111         2     -1         0  unknown  \n",
      "3  yes   unknown   29   may       125         1     -1         0  unknown  \n",
      "4   no  cellular   22   jul       181         1     -1         0  unknown  \n"
     ]
    }
   ],
   "source": [
    "data1 = pd.read_csv('/kaggle/input/binary-classification/train.csv')\n",
    "data2 = pd.read_csv('/kaggle/input/binary-classification/test.csv')\n",
    "\n",
    "train_df = data1.copy()\n",
    "test_df = data2.copy()\n",
    "\n",
    "print(\"First 5 rows of train_df: \\n\", train_df.head(5))\n",
    "print(\"First 5 rows of test_df: \\n\", test_df.head(5))"
   ]
  },
  {
   "cell_type": "code",
   "execution_count": 3,
   "metadata": {
    "execution": {
     "iopub.execute_input": "2025-08-20T06:51:29.031246Z",
     "iopub.status.busy": "2025-08-20T06:51:29.030910Z",
     "iopub.status.idle": "2025-08-20T06:51:29.333939Z",
     "shell.execute_reply": "2025-08-20T06:51:29.333402Z",
     "shell.execute_reply.started": "2025-08-20T06:51:29.031221Z"
    },
    "trusted": true
   },
   "outputs": [],
   "source": [
    "train_df['was_contacted_previous'] = train_df['pdays'].apply(lambda x: 1 if x > 0 else 0)\n",
    "test_df['was_contacted_previous'] = test_df['pdays'].apply(lambda x: 1 if x > 0 else 0)"
   ]
  },
  {
   "cell_type": "code",
   "execution_count": 4,
   "metadata": {
    "execution": {
     "iopub.execute_input": "2025-08-20T06:51:29.334848Z",
     "iopub.status.busy": "2025-08-20T06:51:29.334620Z",
     "iopub.status.idle": "2025-08-20T06:51:29.347944Z",
     "shell.execute_reply": "2025-08-20T06:51:29.347174Z",
     "shell.execute_reply.started": "2025-08-20T06:51:29.334826Z"
    },
    "trusted": true
   },
   "outputs": [],
   "source": [
    "train_df.loc[train_df['pdays'] == -1, 'pdays'] = 99999\n",
    "test_df.loc[test_df['pdays'] == -1, 'pdays'] = 99999"
   ]
  },
  {
   "cell_type": "code",
   "execution_count": 5,
   "metadata": {
    "execution": {
     "iopub.execute_input": "2025-08-20T06:51:29.348920Z",
     "iopub.status.busy": "2025-08-20T06:51:29.348716Z",
     "iopub.status.idle": "2025-08-20T06:51:29.353685Z",
     "shell.execute_reply": "2025-08-20T06:51:29.353166Z",
     "shell.execute_reply.started": "2025-08-20T06:51:29.348904Z"
    },
    "trusted": true
   },
   "outputs": [],
   "source": [
    "test_id_placeholder = test_df['id']"
   ]
  },
  {
   "cell_type": "code",
   "execution_count": 8,
   "metadata": {
    "execution": {
     "iopub.execute_input": "2025-08-20T06:52:54.110385Z",
     "iopub.status.busy": "2025-08-20T06:52:54.109781Z",
     "iopub.status.idle": "2025-08-20T06:52:54.248864Z",
     "shell.execute_reply": "2025-08-20T06:52:54.248283Z",
     "shell.execute_reply.started": "2025-08-20T06:52:54.110359Z"
    },
    "trusted": true
   },
   "outputs": [
    {
     "name": "stdout",
     "output_type": "stream",
     "text": [
      "Total Categorical Columns 9\n",
      "Total Numerical Columns 10\n"
     ]
    }
   ],
   "source": [
    "cat_cols=train_df.select_dtypes(include=['object']).columns\n",
    "num_cols=train_df.select_dtypes(include=['int']).columns\n",
    "\n",
    "print(f'Total Categorical Columns {len(cat_cols)}')\n",
    "print(f'Total Numerical Columns {len(num_cols)}')"
   ]
  },
  {
   "cell_type": "code",
   "execution_count": 9,
   "metadata": {
    "execution": {
     "iopub.execute_input": "2025-08-20T06:53:00.739465Z",
     "iopub.status.busy": "2025-08-20T06:53:00.739218Z",
     "iopub.status.idle": "2025-08-20T06:53:01.309423Z",
     "shell.execute_reply": "2025-08-20T06:53:01.308778Z",
     "shell.execute_reply.started": "2025-08-20T06:53:00.739445Z"
    },
    "trusted": true
   },
   "outputs": [],
   "source": [
    "from sklearn.model_selection import train_test_split\n",
    "\n",
    "X = train_df.drop(columns=['id', 'y'])\n",
    "y = train_df['y']\n",
    "\n",
    "test_df = test_df.drop(columns='id')\n",
    "\n",
    "X_train, X_test, y_train, y_test = train_test_split(X, y, test_size= 0.2, random_state=42)"
   ]
  },
  {
   "cell_type": "code",
   "execution_count": 10,
   "metadata": {
    "execution": {
     "iopub.execute_input": "2025-08-20T06:53:08.289397Z",
     "iopub.status.busy": "2025-08-20T06:53:08.288807Z",
     "iopub.status.idle": "2025-08-20T06:53:13.227023Z",
     "shell.execute_reply": "2025-08-20T06:53:13.226271Z",
     "shell.execute_reply.started": "2025-08-20T06:53:08.289376Z"
    },
    "trusted": true
   },
   "outputs": [
    {
     "name": "stdout",
     "output_type": "stream",
     "text": [
      "Requirement already satisfied: optuna in /usr/local/lib/python3.11/dist-packages (4.4.0)\n",
      "Requirement already satisfied: alembic>=1.5.0 in /usr/local/lib/python3.11/dist-packages (from optuna) (1.16.2)\n",
      "Requirement already satisfied: colorlog in /usr/local/lib/python3.11/dist-packages (from optuna) (6.9.0)\n",
      "Requirement already satisfied: numpy in /usr/local/lib/python3.11/dist-packages (from optuna) (1.26.4)\n",
      "Requirement already satisfied: packaging>=20.0 in /usr/local/lib/python3.11/dist-packages (from optuna) (25.0)\n",
      "Requirement already satisfied: sqlalchemy>=1.4.2 in /usr/local/lib/python3.11/dist-packages (from optuna) (2.0.41)\n",
      "Requirement already satisfied: tqdm in /usr/local/lib/python3.11/dist-packages (from optuna) (4.67.1)\n",
      "Requirement already satisfied: PyYAML in /usr/local/lib/python3.11/dist-packages (from optuna) (6.0.2)\n",
      "Requirement already satisfied: Mako in /usr/local/lib/python3.11/dist-packages (from alembic>=1.5.0->optuna) (1.3.10)\n",
      "Requirement already satisfied: typing-extensions>=4.12 in /usr/local/lib/python3.11/dist-packages (from alembic>=1.5.0->optuna) (4.14.0)\n",
      "Requirement already satisfied: greenlet>=1 in /usr/local/lib/python3.11/dist-packages (from sqlalchemy>=1.4.2->optuna) (3.2.3)\n",
      "Requirement already satisfied: mkl_fft in /usr/local/lib/python3.11/dist-packages (from numpy->optuna) (1.3.8)\n",
      "Requirement already satisfied: mkl_random in /usr/local/lib/python3.11/dist-packages (from numpy->optuna) (1.2.4)\n",
      "Requirement already satisfied: mkl_umath in /usr/local/lib/python3.11/dist-packages (from numpy->optuna) (0.1.1)\n",
      "Requirement already satisfied: mkl in /usr/local/lib/python3.11/dist-packages (from numpy->optuna) (2025.2.0)\n",
      "Requirement already satisfied: tbb4py in /usr/local/lib/python3.11/dist-packages (from numpy->optuna) (2022.2.0)\n",
      "Requirement already satisfied: mkl-service in /usr/local/lib/python3.11/dist-packages (from numpy->optuna) (2.4.1)\n",
      "Requirement already satisfied: MarkupSafe>=0.9.2 in /usr/local/lib/python3.11/dist-packages (from Mako->alembic>=1.5.0->optuna) (3.0.2)\n",
      "Requirement already satisfied: intel-openmp<2026,>=2024 in /usr/local/lib/python3.11/dist-packages (from mkl->numpy->optuna) (2024.2.0)\n",
      "Requirement already satisfied: tbb==2022.* in /usr/local/lib/python3.11/dist-packages (from mkl->numpy->optuna) (2022.2.0)\n",
      "Requirement already satisfied: tcmlib==1.* in /usr/local/lib/python3.11/dist-packages (from tbb==2022.*->mkl->numpy->optuna) (1.4.0)\n",
      "Requirement already satisfied: intel-cmplr-lib-rt in /usr/local/lib/python3.11/dist-packages (from mkl_umath->numpy->optuna) (2024.2.0)\n",
      "Requirement already satisfied: intel-cmplr-lib-ur==2024.2.0 in /usr/local/lib/python3.11/dist-packages (from intel-openmp<2026,>=2024->mkl->numpy->optuna) (2024.2.0)\n"
     ]
    }
   ],
   "source": [
    "!pip install optuna"
   ]
  },
  {
   "cell_type": "code",
   "execution_count": 11,
   "metadata": {
    "execution": {
     "iopub.execute_input": "2025-08-20T06:53:18.585532Z",
     "iopub.status.busy": "2025-08-20T06:53:18.585230Z",
     "iopub.status.idle": "2025-08-20T06:53:18.664694Z",
     "shell.execute_reply": "2025-08-20T06:53:18.663544Z",
     "shell.execute_reply.started": "2025-08-20T06:53:18.585508Z"
    },
    "trusted": true
   },
   "outputs": [],
   "source": [
    "cat_cols = X.select_dtypes(include=['object']).columns.tolist()\n",
    "cat_cols.append('was_contacted_previous')"
   ]
  },
  {
   "cell_type": "code",
   "execution_count": 12,
   "metadata": {
    "execution": {
     "iopub.execute_input": "2025-08-20T06:53:25.682223Z",
     "iopub.status.busy": "2025-08-20T06:53:25.681730Z",
     "iopub.status.idle": "2025-08-20T06:53:28.852877Z",
     "shell.execute_reply": "2025-08-20T06:53:28.852159Z",
     "shell.execute_reply.started": "2025-08-20T06:53:25.682198Z"
    },
    "trusted": true
   },
   "outputs": [
    {
     "name": "stdout",
     "output_type": "stream",
     "text": [
      "Requirement already satisfied: catboost in /usr/local/lib/python3.11/dist-packages (1.2.8)\n",
      "Requirement already satisfied: graphviz in /usr/local/lib/python3.11/dist-packages (from catboost) (0.21)\n",
      "Requirement already satisfied: matplotlib in /usr/local/lib/python3.11/dist-packages (from catboost) (3.7.2)\n",
      "Requirement already satisfied: numpy<3.0,>=1.16.0 in /usr/local/lib/python3.11/dist-packages (from catboost) (1.26.4)\n",
      "Requirement already satisfied: pandas>=0.24 in /usr/local/lib/python3.11/dist-packages (from catboost) (2.2.3)\n",
      "Requirement already satisfied: scipy in /usr/local/lib/python3.11/dist-packages (from catboost) (1.15.3)\n",
      "Requirement already satisfied: plotly in /usr/local/lib/python3.11/dist-packages (from catboost) (5.24.1)\n",
      "Requirement already satisfied: six in /usr/local/lib/python3.11/dist-packages (from catboost) (1.17.0)\n",
      "Requirement already satisfied: mkl_fft in /usr/local/lib/python3.11/dist-packages (from numpy<3.0,>=1.16.0->catboost) (1.3.8)\n",
      "Requirement already satisfied: mkl_random in /usr/local/lib/python3.11/dist-packages (from numpy<3.0,>=1.16.0->catboost) (1.2.4)\n",
      "Requirement already satisfied: mkl_umath in /usr/local/lib/python3.11/dist-packages (from numpy<3.0,>=1.16.0->catboost) (0.1.1)\n",
      "Requirement already satisfied: mkl in /usr/local/lib/python3.11/dist-packages (from numpy<3.0,>=1.16.0->catboost) (2025.2.0)\n",
      "Requirement already satisfied: tbb4py in /usr/local/lib/python3.11/dist-packages (from numpy<3.0,>=1.16.0->catboost) (2022.2.0)\n",
      "Requirement already satisfied: mkl-service in /usr/local/lib/python3.11/dist-packages (from numpy<3.0,>=1.16.0->catboost) (2.4.1)\n",
      "Requirement already satisfied: python-dateutil>=2.8.2 in /usr/local/lib/python3.11/dist-packages (from pandas>=0.24->catboost) (2.9.0.post0)\n",
      "Requirement already satisfied: pytz>=2020.1 in /usr/local/lib/python3.11/dist-packages (from pandas>=0.24->catboost) (2025.2)\n",
      "Requirement already satisfied: tzdata>=2022.7 in /usr/local/lib/python3.11/dist-packages (from pandas>=0.24->catboost) (2025.2)\n",
      "Requirement already satisfied: contourpy>=1.0.1 in /usr/local/lib/python3.11/dist-packages (from matplotlib->catboost) (1.3.2)\n",
      "Requirement already satisfied: cycler>=0.10 in /usr/local/lib/python3.11/dist-packages (from matplotlib->catboost) (0.12.1)\n",
      "Requirement already satisfied: fonttools>=4.22.0 in /usr/local/lib/python3.11/dist-packages (from matplotlib->catboost) (4.58.4)\n",
      "Requirement already satisfied: kiwisolver>=1.0.1 in /usr/local/lib/python3.11/dist-packages (from matplotlib->catboost) (1.4.8)\n",
      "Requirement already satisfied: packaging>=20.0 in /usr/local/lib/python3.11/dist-packages (from matplotlib->catboost) (25.0)\n",
      "Requirement already satisfied: pillow>=6.2.0 in /usr/local/lib/python3.11/dist-packages (from matplotlib->catboost) (11.2.1)\n",
      "Requirement already satisfied: pyparsing<3.1,>=2.3.1 in /usr/local/lib/python3.11/dist-packages (from matplotlib->catboost) (3.0.9)\n",
      "Requirement already satisfied: tenacity>=6.2.0 in /usr/local/lib/python3.11/dist-packages (from plotly->catboost) (8.5.0)\n",
      "Requirement already satisfied: intel-openmp<2026,>=2024 in /usr/local/lib/python3.11/dist-packages (from mkl->numpy<3.0,>=1.16.0->catboost) (2024.2.0)\n",
      "Requirement already satisfied: tbb==2022.* in /usr/local/lib/python3.11/dist-packages (from mkl->numpy<3.0,>=1.16.0->catboost) (2022.2.0)\n",
      "Requirement already satisfied: tcmlib==1.* in /usr/local/lib/python3.11/dist-packages (from tbb==2022.*->mkl->numpy<3.0,>=1.16.0->catboost) (1.4.0)\n",
      "Requirement already satisfied: intel-cmplr-lib-rt in /usr/local/lib/python3.11/dist-packages (from mkl_umath->numpy<3.0,>=1.16.0->catboost) (2024.2.0)\n",
      "Requirement already satisfied: intel-cmplr-lib-ur==2024.2.0 in /usr/local/lib/python3.11/dist-packages (from intel-openmp<2026,>=2024->mkl->numpy<3.0,>=1.16.0->catboost) (2024.2.0)\n"
     ]
    }
   ],
   "source": [
    "!pip install catboost"
   ]
  },
  {
   "cell_type": "code",
   "execution_count": 13,
   "metadata": {
    "execution": {
     "iopub.execute_input": "2025-08-20T06:53:36.305969Z",
     "iopub.status.busy": "2025-08-20T06:53:36.305656Z",
     "iopub.status.idle": "2025-08-20T06:53:37.480151Z",
     "shell.execute_reply": "2025-08-20T06:53:37.479358Z",
     "shell.execute_reply.started": "2025-08-20T06:53:36.305941Z"
    },
    "trusted": true
   },
   "outputs": [],
   "source": [
    "from sklearn.model_selection import StratifiedKFold,train_test_split\n",
    "from catboost import CatBoostClassifier, Pool\n",
    "from sklearn.metrics import roc_auc_score\n",
    "import optuna"
   ]
  },
  {
   "cell_type": "code",
   "execution_count": 14,
   "metadata": {
    "execution": {
     "iopub.execute_input": "2025-08-20T06:53:43.596073Z",
     "iopub.status.busy": "2025-08-20T06:53:43.595230Z",
     "iopub.status.idle": "2025-08-20T06:53:43.602187Z",
     "shell.execute_reply": "2025-08-20T06:53:43.601515Z",
     "shell.execute_reply.started": "2025-08-20T06:53:43.596053Z"
    },
    "trusted": true
   },
   "outputs": [],
   "source": [
    "def objective(trial):\n",
    "    params = {\n",
    "        'iterations': trial.suggest_int('iterations', 500, 2500),\n",
    "        'learning_rate': trial.suggest_loguniform('learning_rate', 0.01, 0.1),\n",
    "        'depth': trial.suggest_int('depth', 4, 10),\n",
    "        'l2_leaf_reg': trial.suggest_loguniform('l2_leaf_reg', 1e-3, 10.0),\n",
    "        'random_state': 42,\n",
    "        'eval_metric': 'AUC',\n",
    "        'verbose': 0,\n",
    "        'early_stopping_rounds': 50,\n",
    "        'task_type': 'GPU',\n",
    "        'devices': '0'\n",
    "    }\n",
    "    X_train, X_test, y_train, y_test = train_test_split(X, y, test_size=0.2, random_state=42)\n",
    "    train_pool = Pool(X_train, y_train, cat_features=cat_cols)\n",
    "    test_pool = Pool(X_test, y_test, cat_features=cat_cols)\n",
    "    model = CatBoostClassifier(**params)\n",
    "    model.fit(train_pool, eval_set=test_pool)\n",
    "    y_prob = model.predict_proba(X_test)[:, 1]\n",
    "    roc_auc = roc_auc_score(y_test, y_prob)\n",
    "\n",
    "    return roc_auc"
   ]
  },
  {
   "cell_type": "code",
   "execution_count": 15,
   "metadata": {
    "execution": {
     "iopub.execute_input": "2025-08-20T06:53:51.799713Z",
     "iopub.status.busy": "2025-08-20T06:53:51.799006Z",
     "iopub.status.idle": "2025-08-20T07:08:46.586759Z",
     "shell.execute_reply": "2025-08-20T07:08:46.585867Z",
     "shell.execute_reply.started": "2025-08-20T06:53:51.799691Z"
    },
    "trusted": true
   },
   "outputs": [
    {
     "name": "stderr",
     "output_type": "stream",
     "text": [
      "[I 2025-08-20 06:53:51,801] A new study created in memory with name: no-name-5565219e-183b-4f74-8f17-73e466943b70\n"
     ]
    },
    {
     "data": {
      "application/vnd.jupyter.widget-view+json": {
       "model_id": "37308a743d1b446d8d3ed15cd46ddbf3",
       "version_major": 2,
       "version_minor": 0
      },
      "text/plain": [
       "  0%|          | 0/5 [00:00<?, ?it/s]"
      ]
     },
     "metadata": {},
     "output_type": "display_data"
    },
    {
     "name": "stderr",
     "output_type": "stream",
     "text": [
      "/tmp/ipykernel_36/4115968342.py:4: FutureWarning: suggest_loguniform has been deprecated in v3.0.0. This feature will be removed in v6.0.0. See https://github.com/optuna/optuna/releases/tag/v3.0.0. Use suggest_float(..., log=True) instead.\n",
      "  'learning_rate': trial.suggest_loguniform('learning_rate', 0.01, 0.1),\n",
      "/tmp/ipykernel_36/4115968342.py:6: FutureWarning: suggest_loguniform has been deprecated in v3.0.0. This feature will be removed in v6.0.0. See https://github.com/optuna/optuna/releases/tag/v3.0.0. Use suggest_float(..., log=True) instead.\n",
      "  'l2_leaf_reg': trial.suggest_loguniform('l2_leaf_reg', 1e-3, 10.0),\n",
      "Default metric period is 5 because AUC is/are not implemented for GPU\n"
     ]
    },
    {
     "name": "stdout",
     "output_type": "stream",
     "text": [
      "[I 2025-08-20 06:55:34,601] Trial 0 finished with value: 0.9633940853792613 and parameters: {'iterations': 2190, 'learning_rate': 0.02083421194848568, 'depth': 5, 'l2_leaf_reg': 6.967823559599055}. Best is trial 0 with value: 0.9633940853792613.\n"
     ]
    },
    {
     "name": "stderr",
     "output_type": "stream",
     "text": [
      "/tmp/ipykernel_36/4115968342.py:4: FutureWarning: suggest_loguniform has been deprecated in v3.0.0. This feature will be removed in v6.0.0. See https://github.com/optuna/optuna/releases/tag/v3.0.0. Use suggest_float(..., log=True) instead.\n",
      "  'learning_rate': trial.suggest_loguniform('learning_rate', 0.01, 0.1),\n",
      "/tmp/ipykernel_36/4115968342.py:6: FutureWarning: suggest_loguniform has been deprecated in v3.0.0. This feature will be removed in v6.0.0. See https://github.com/optuna/optuna/releases/tag/v3.0.0. Use suggest_float(..., log=True) instead.\n",
      "  'l2_leaf_reg': trial.suggest_loguniform('l2_leaf_reg', 1e-3, 10.0),\n",
      "Default metric period is 5 because AUC is/are not implemented for GPU\n"
     ]
    },
    {
     "name": "stdout",
     "output_type": "stream",
     "text": [
      "[I 2025-08-20 06:59:01,499] Trial 1 finished with value: 0.9653766542692024 and parameters: {'iterations': 1985, 'learning_rate': 0.020337373509605548, 'depth': 9, 'l2_leaf_reg': 0.2903485650325186}. Best is trial 1 with value: 0.9653766542692024.\n"
     ]
    },
    {
     "name": "stderr",
     "output_type": "stream",
     "text": [
      "/tmp/ipykernel_36/4115968342.py:4: FutureWarning: suggest_loguniform has been deprecated in v3.0.0. This feature will be removed in v6.0.0. See https://github.com/optuna/optuna/releases/tag/v3.0.0. Use suggest_float(..., log=True) instead.\n",
      "  'learning_rate': trial.suggest_loguniform('learning_rate', 0.01, 0.1),\n",
      "/tmp/ipykernel_36/4115968342.py:6: FutureWarning: suggest_loguniform has been deprecated in v3.0.0. This feature will be removed in v6.0.0. See https://github.com/optuna/optuna/releases/tag/v3.0.0. Use suggest_float(..., log=True) instead.\n",
      "  'l2_leaf_reg': trial.suggest_loguniform('l2_leaf_reg', 1e-3, 10.0),\n",
      "Default metric period is 5 because AUC is/are not implemented for GPU\n"
     ]
    },
    {
     "name": "stdout",
     "output_type": "stream",
     "text": [
      "[I 2025-08-20 07:00:16,235] Trial 2 finished with value: 0.9640052290058427 and parameters: {'iterations': 884, 'learning_rate': 0.024383544762065106, 'depth': 8, 'l2_leaf_reg': 0.014007557156310949}. Best is trial 1 with value: 0.9653766542692024.\n"
     ]
    },
    {
     "name": "stderr",
     "output_type": "stream",
     "text": [
      "/tmp/ipykernel_36/4115968342.py:4: FutureWarning: suggest_loguniform has been deprecated in v3.0.0. This feature will be removed in v6.0.0. See https://github.com/optuna/optuna/releases/tag/v3.0.0. Use suggest_float(..., log=True) instead.\n",
      "  'learning_rate': trial.suggest_loguniform('learning_rate', 0.01, 0.1),\n",
      "/tmp/ipykernel_36/4115968342.py:6: FutureWarning: suggest_loguniform has been deprecated in v3.0.0. This feature will be removed in v6.0.0. See https://github.com/optuna/optuna/releases/tag/v3.0.0. Use suggest_float(..., log=True) instead.\n",
      "  'l2_leaf_reg': trial.suggest_loguniform('l2_leaf_reg', 1e-3, 10.0),\n",
      "Default metric period is 5 because AUC is/are not implemented for GPU\n"
     ]
    },
    {
     "name": "stdout",
     "output_type": "stream",
     "text": [
      "[I 2025-08-20 07:04:04,045] Trial 3 finished with value: 0.9644000887373474 and parameters: {'iterations': 1667, 'learning_rate': 0.010673067160784306, 'depth': 10, 'l2_leaf_reg': 0.0017069245156134643}. Best is trial 1 with value: 0.9653766542692024.\n"
     ]
    },
    {
     "name": "stderr",
     "output_type": "stream",
     "text": [
      "/tmp/ipykernel_36/4115968342.py:4: FutureWarning: suggest_loguniform has been deprecated in v3.0.0. This feature will be removed in v6.0.0. See https://github.com/optuna/optuna/releases/tag/v3.0.0. Use suggest_float(..., log=True) instead.\n",
      "  'learning_rate': trial.suggest_loguniform('learning_rate', 0.01, 0.1),\n",
      "/tmp/ipykernel_36/4115968342.py:6: FutureWarning: suggest_loguniform has been deprecated in v3.0.0. This feature will be removed in v6.0.0. See https://github.com/optuna/optuna/releases/tag/v3.0.0. Use suggest_float(..., log=True) instead.\n",
      "  'l2_leaf_reg': trial.suggest_loguniform('l2_leaf_reg', 1e-3, 10.0),\n",
      "Default metric period is 5 because AUC is/are not implemented for GPU\n"
     ]
    },
    {
     "name": "stdout",
     "output_type": "stream",
     "text": [
      "[I 2025-08-20 07:08:46,580] Trial 4 finished with value: 0.9656628881676753 and parameters: {'iterations': 2055, 'learning_rate': 0.02665115954238175, 'depth': 10, 'l2_leaf_reg': 2.5791476284739505}. Best is trial 4 with value: 0.9656628881676753.\n",
      "\n",
      "Best Hyperparameters from Optuna:\n",
      "{'iterations': 2055, 'learning_rate': 0.02665115954238175, 'depth': 10, 'l2_leaf_reg': 2.5791476284739505}\n"
     ]
    }
   ],
   "source": [
    "study = optuna.create_study(direction='maximize')\n",
    "study.optimize(objective, n_trials=5, show_progress_bar=True)\n",
    "best_params = study.best_trial.params\n",
    "print(\"\\nBest Hyperparameters from Optuna:\")\n",
    "print(best_params)"
   ]
  },
  {
   "cell_type": "code",
   "execution_count": 16,
   "metadata": {
    "execution": {
     "iopub.execute_input": "2025-08-20T07:11:56.039415Z",
     "iopub.status.busy": "2025-08-20T07:11:56.038719Z",
     "iopub.status.idle": "2025-08-20T07:11:56.042973Z",
     "shell.execute_reply": "2025-08-20T07:11:56.042324Z",
     "shell.execute_reply.started": "2025-08-20T07:11:56.039395Z"
    },
    "trusted": true
   },
   "outputs": [],
   "source": [
    "best_params['random_state'] = 42\n",
    "best_params['eval_metric'] = 'AUC'\n",
    "best_params['verbose'] = 100\n",
    "best_params['early_stopping_rounds'] = 50"
   ]
  },
  {
   "cell_type": "code",
   "execution_count": 18,
   "metadata": {
    "execution": {
     "iopub.execute_input": "2025-08-20T07:12:28.302033Z",
     "iopub.status.busy": "2025-08-20T07:12:28.301263Z",
     "iopub.status.idle": "2025-08-20T09:28:32.339236Z",
     "shell.execute_reply": "2025-08-20T09:28:32.338404Z",
     "shell.execute_reply.started": "2025-08-20T07:12:28.302009Z"
    },
    "trusted": true
   },
   "outputs": [
    {
     "name": "stdout",
     "output_type": "stream",
     "text": [
      "\n",
      "--- Starting Fold 1/5 ---\n",
      "0:\ttest: 0.9336256\tbest: 0.9336256 (0)\ttotal: 863ms\tremaining: 29m 32s\n",
      "100:\ttest: 0.9587289\tbest: 0.9587289 (100)\ttotal: 1m 18s\tremaining: 25m 13s\n",
      "200:\ttest: 0.9622410\tbest: 0.9622410 (200)\ttotal: 2m 36s\tremaining: 24m 3s\n",
      "300:\ttest: 0.9637732\tbest: 0.9637732 (300)\ttotal: 3m 54s\tremaining: 22m 47s\n",
      "400:\ttest: 0.9646771\tbest: 0.9646771 (400)\ttotal: 5m 13s\tremaining: 21m 31s\n",
      "500:\ttest: 0.9652126\tbest: 0.9652126 (500)\ttotal: 6m 30s\tremaining: 20m 10s\n",
      "600:\ttest: 0.9656835\tbest: 0.9656835 (600)\ttotal: 7m 49s\tremaining: 18m 56s\n",
      "700:\ttest: 0.9660649\tbest: 0.9660649 (700)\ttotal: 9m 8s\tremaining: 17m 39s\n",
      "800:\ttest: 0.9663794\tbest: 0.9663794 (800)\ttotal: 10m 26s\tremaining: 16m 21s\n",
      "900:\ttest: 0.9666294\tbest: 0.9666294 (900)\ttotal: 11m 47s\tremaining: 15m 5s\n",
      "1000:\ttest: 0.9668239\tbest: 0.9668239 (1000)\ttotal: 13m 6s\tremaining: 13m 48s\n",
      "1100:\ttest: 0.9670005\tbest: 0.9670005 (1100)\ttotal: 14m 26s\tremaining: 12m 31s\n",
      "1200:\ttest: 0.9671329\tbest: 0.9671329 (1200)\ttotal: 15m 47s\tremaining: 11m 13s\n",
      "1300:\ttest: 0.9672597\tbest: 0.9672597 (1300)\ttotal: 17m 7s\tremaining: 9m 55s\n",
      "1400:\ttest: 0.9674082\tbest: 0.9674082 (1400)\ttotal: 18m 28s\tremaining: 8m 37s\n",
      "1500:\ttest: 0.9675254\tbest: 0.9675260 (1499)\ttotal: 19m 50s\tremaining: 7m 19s\n",
      "1600:\ttest: 0.9676119\tbest: 0.9676119 (1600)\ttotal: 21m 9s\tremaining: 6m\n",
      "1700:\ttest: 0.9677238\tbest: 0.9677239 (1698)\ttotal: 22m 29s\tremaining: 4m 40s\n",
      "1800:\ttest: 0.9678354\tbest: 0.9678354 (1800)\ttotal: 23m 50s\tremaining: 3m 21s\n",
      "1900:\ttest: 0.9679080\tbest: 0.9679080 (1900)\ttotal: 25m 11s\tremaining: 2m 2s\n",
      "2000:\ttest: 0.9680081\tbest: 0.9680081 (2000)\ttotal: 26m 30s\tremaining: 42.9s\n",
      "2054:\ttest: 0.9680447\tbest: 0.9680447 (2054)\ttotal: 27m 14s\tremaining: 0us\n",
      "\n",
      "bestTest = 0.9680447242\n",
      "bestIteration = 2054\n",
      "\n",
      "\n",
      "--- Starting Fold 2/5 ---\n",
      "0:\ttest: 0.9359652\tbest: 0.9359652 (0)\ttotal: 764ms\tremaining: 26m 10s\n",
      "100:\ttest: 0.9577525\tbest: 0.9577525 (100)\ttotal: 1m 16s\tremaining: 24m 49s\n",
      "200:\ttest: 0.9608862\tbest: 0.9608862 (200)\ttotal: 2m 34s\tremaining: 23m 48s\n",
      "300:\ttest: 0.9625085\tbest: 0.9625085 (300)\ttotal: 3m 52s\tremaining: 22m 35s\n",
      "400:\ttest: 0.9633483\tbest: 0.9633483 (400)\ttotal: 5m 10s\tremaining: 21m 21s\n",
      "500:\ttest: 0.9639309\tbest: 0.9639309 (500)\ttotal: 6m 28s\tremaining: 20m 5s\n",
      "600:\ttest: 0.9644670\tbest: 0.9644670 (600)\ttotal: 7m 47s\tremaining: 18m 50s\n",
      "700:\ttest: 0.9649111\tbest: 0.9649111 (700)\ttotal: 9m 6s\tremaining: 17m 35s\n",
      "800:\ttest: 0.9652358\tbest: 0.9652358 (800)\ttotal: 10m 23s\tremaining: 16m 16s\n",
      "900:\ttest: 0.9654674\tbest: 0.9654674 (900)\ttotal: 11m 42s\tremaining: 15m\n",
      "1000:\ttest: 0.9656727\tbest: 0.9656727 (1000)\ttotal: 13m 1s\tremaining: 13m 42s\n",
      "1100:\ttest: 0.9658593\tbest: 0.9658593 (1100)\ttotal: 14m 19s\tremaining: 12m 24s\n",
      "1200:\ttest: 0.9659832\tbest: 0.9659833 (1199)\ttotal: 15m 38s\tremaining: 11m 7s\n",
      "1300:\ttest: 0.9661222\tbest: 0.9661223 (1299)\ttotal: 16m 58s\tremaining: 9m 50s\n",
      "1400:\ttest: 0.9662746\tbest: 0.9662746 (1400)\ttotal: 18m 17s\tremaining: 8m 32s\n",
      "1500:\ttest: 0.9663859\tbest: 0.9663859 (1500)\ttotal: 19m 36s\tremaining: 7m 14s\n",
      "1600:\ttest: 0.9665081\tbest: 0.9665081 (1600)\ttotal: 20m 55s\tremaining: 5m 55s\n",
      "1700:\ttest: 0.9665869\tbest: 0.9665869 (1700)\ttotal: 22m 16s\tremaining: 4m 38s\n",
      "1800:\ttest: 0.9666645\tbest: 0.9666647 (1795)\ttotal: 23m 36s\tremaining: 3m 19s\n",
      "1900:\ttest: 0.9667216\tbest: 0.9667216 (1900)\ttotal: 24m 59s\tremaining: 2m 1s\n",
      "2000:\ttest: 0.9668019\tbest: 0.9668022 (1999)\ttotal: 26m 21s\tremaining: 42.7s\n",
      "2054:\ttest: 0.9668341\tbest: 0.9668341 (2054)\ttotal: 27m 5s\tremaining: 0us\n",
      "\n",
      "bestTest = 0.9668341439\n",
      "bestIteration = 2054\n",
      "\n",
      "\n",
      "--- Starting Fold 3/5 ---\n",
      "0:\ttest: 0.9317823\tbest: 0.9317823 (0)\ttotal: 763ms\tremaining: 26m 7s\n",
      "100:\ttest: 0.9575559\tbest: 0.9575559 (100)\ttotal: 1m 16s\tremaining: 24m 44s\n",
      "200:\ttest: 0.9610451\tbest: 0.9610451 (200)\ttotal: 2m 35s\tremaining: 23m 58s\n",
      "300:\ttest: 0.9626874\tbest: 0.9626874 (300)\ttotal: 3m 54s\tremaining: 22m 47s\n",
      "400:\ttest: 0.9635711\tbest: 0.9635711 (400)\ttotal: 5m 11s\tremaining: 21m 26s\n",
      "500:\ttest: 0.9641494\tbest: 0.9641494 (500)\ttotal: 6m 29s\tremaining: 20m 7s\n",
      "600:\ttest: 0.9646456\tbest: 0.9646456 (600)\ttotal: 7m 48s\tremaining: 18m 53s\n",
      "700:\ttest: 0.9650143\tbest: 0.9650143 (700)\ttotal: 9m 6s\tremaining: 17m 34s\n",
      "800:\ttest: 0.9652862\tbest: 0.9652862 (800)\ttotal: 10m 24s\tremaining: 16m 17s\n",
      "900:\ttest: 0.9655216\tbest: 0.9655216 (900)\ttotal: 11m 43s\tremaining: 15m 1s\n",
      "1000:\ttest: 0.9657370\tbest: 0.9657370 (1000)\ttotal: 13m 2s\tremaining: 13m 43s\n",
      "1100:\ttest: 0.9659277\tbest: 0.9659277 (1100)\ttotal: 14m 22s\tremaining: 12m 27s\n",
      "1200:\ttest: 0.9660685\tbest: 0.9660685 (1200)\ttotal: 15m 42s\tremaining: 11m 10s\n",
      "1300:\ttest: 0.9662303\tbest: 0.9662303 (1300)\ttotal: 17m 2s\tremaining: 9m 52s\n",
      "1400:\ttest: 0.9663560\tbest: 0.9663560 (1400)\ttotal: 18m 22s\tremaining: 8m 34s\n",
      "1500:\ttest: 0.9664727\tbest: 0.9664727 (1500)\ttotal: 19m 42s\tremaining: 7m 16s\n",
      "1600:\ttest: 0.9665500\tbest: 0.9665503 (1598)\ttotal: 21m 3s\tremaining: 5m 58s\n",
      "1700:\ttest: 0.9666667\tbest: 0.9666667 (1700)\ttotal: 22m 23s\tremaining: 4m 39s\n",
      "1800:\ttest: 0.9667467\tbest: 0.9667467 (1800)\ttotal: 23m 43s\tremaining: 3m 20s\n",
      "1900:\ttest: 0.9668283\tbest: 0.9668286 (1899)\ttotal: 25m 3s\tremaining: 2m 1s\n",
      "2000:\ttest: 0.9668966\tbest: 0.9668966 (2000)\ttotal: 26m 23s\tremaining: 42.7s\n",
      "2054:\ttest: 0.9669293\tbest: 0.9669300 (2052)\ttotal: 27m 8s\tremaining: 0us\n",
      "\n",
      "bestTest = 0.9669300471\n",
      "bestIteration = 2052\n",
      "\n",
      "Shrink model to first 2053 iterations.\n",
      "\n",
      "--- Starting Fold 4/5 ---\n",
      "0:\ttest: 0.9334712\tbest: 0.9334712 (0)\ttotal: 788ms\tremaining: 26m 59s\n",
      "100:\ttest: 0.9583063\tbest: 0.9583063 (100)\ttotal: 1m 17s\tremaining: 25m 1s\n",
      "200:\ttest: 0.9617867\tbest: 0.9617867 (200)\ttotal: 2m 37s\tremaining: 24m 13s\n",
      "300:\ttest: 0.9633859\tbest: 0.9633859 (300)\ttotal: 3m 56s\tremaining: 22m 58s\n",
      "400:\ttest: 0.9642632\tbest: 0.9642632 (400)\ttotal: 5m 14s\tremaining: 21m 38s\n",
      "500:\ttest: 0.9648668\tbest: 0.9648668 (500)\ttotal: 6m 32s\tremaining: 20m 16s\n",
      "600:\ttest: 0.9653352\tbest: 0.9653352 (600)\ttotal: 7m 51s\tremaining: 19m 1s\n",
      "700:\ttest: 0.9657434\tbest: 0.9657434 (700)\ttotal: 9m 9s\tremaining: 17m 40s\n",
      "800:\ttest: 0.9660292\tbest: 0.9660292 (800)\ttotal: 10m 28s\tremaining: 16m 23s\n",
      "900:\ttest: 0.9663509\tbest: 0.9663509 (900)\ttotal: 11m 47s\tremaining: 15m 6s\n",
      "1000:\ttest: 0.9665509\tbest: 0.9665509 (1000)\ttotal: 13m 7s\tremaining: 13m 49s\n",
      "1100:\ttest: 0.9667421\tbest: 0.9667421 (1100)\ttotal: 14m 26s\tremaining: 12m 31s\n",
      "1200:\ttest: 0.9668957\tbest: 0.9668965 (1197)\ttotal: 15m 45s\tremaining: 11m 12s\n",
      "1300:\ttest: 0.9670042\tbest: 0.9670042 (1300)\ttotal: 17m 5s\tremaining: 9m 54s\n",
      "1400:\ttest: 0.9671375\tbest: 0.9671375 (1400)\ttotal: 18m 25s\tremaining: 8m 35s\n",
      "1500:\ttest: 0.9672732\tbest: 0.9672732 (1500)\ttotal: 19m 45s\tremaining: 7m 17s\n",
      "1600:\ttest: 0.9673773\tbest: 0.9673779 (1599)\ttotal: 21m 5s\tremaining: 5m 59s\n",
      "1700:\ttest: 0.9674520\tbest: 0.9674520 (1700)\ttotal: 22m 25s\tremaining: 4m 40s\n",
      "1800:\ttest: 0.9675051\tbest: 0.9675059 (1798)\ttotal: 23m 45s\tremaining: 3m 21s\n",
      "1900:\ttest: 0.9675623\tbest: 0.9675643 (1895)\ttotal: 25m 4s\tremaining: 2m 1s\n",
      "2000:\ttest: 0.9676620\tbest: 0.9676620 (2000)\ttotal: 26m 23s\tremaining: 42.7s\n",
      "2054:\ttest: 0.9676934\tbest: 0.9676934 (2054)\ttotal: 27m 7s\tremaining: 0us\n",
      "\n",
      "bestTest = 0.9676933839\n",
      "bestIteration = 2054\n",
      "\n",
      "\n",
      "--- Starting Fold 5/5 ---\n",
      "0:\ttest: 0.9340091\tbest: 0.9340091 (0)\ttotal: 777ms\tremaining: 26m 35s\n",
      "100:\ttest: 0.9577002\tbest: 0.9577002 (100)\ttotal: 1m 17s\tremaining: 24m 58s\n",
      "200:\ttest: 0.9611374\tbest: 0.9611374 (200)\ttotal: 2m 36s\tremaining: 24m 4s\n",
      "300:\ttest: 0.9627888\tbest: 0.9627888 (300)\ttotal: 3m 54s\tremaining: 22m 49s\n",
      "400:\ttest: 0.9636398\tbest: 0.9636398 (400)\ttotal: 5m 11s\tremaining: 21m 23s\n",
      "500:\ttest: 0.9642485\tbest: 0.9642485 (500)\ttotal: 6m 28s\tremaining: 20m 5s\n",
      "600:\ttest: 0.9647677\tbest: 0.9647677 (600)\ttotal: 7m 46s\tremaining: 18m 49s\n",
      "700:\ttest: 0.9651934\tbest: 0.9651934 (700)\ttotal: 9m 5s\tremaining: 17m 32s\n",
      "800:\ttest: 0.9654856\tbest: 0.9654856 (800)\ttotal: 10m 22s\tremaining: 16m 14s\n",
      "900:\ttest: 0.9657277\tbest: 0.9657277 (900)\ttotal: 11m 40s\tremaining: 14m 57s\n",
      "1000:\ttest: 0.9659478\tbest: 0.9659478 (1000)\ttotal: 12m 59s\tremaining: 13m 40s\n",
      "1100:\ttest: 0.9661574\tbest: 0.9661574 (1100)\ttotal: 14m 16s\tremaining: 12m 22s\n",
      "1200:\ttest: 0.9663190\tbest: 0.9663190 (1200)\ttotal: 15m 35s\tremaining: 11m 5s\n",
      "1300:\ttest: 0.9664586\tbest: 0.9664586 (1300)\ttotal: 16m 54s\tremaining: 9m 48s\n",
      "1400:\ttest: 0.9665689\tbest: 0.9665689 (1400)\ttotal: 18m 13s\tremaining: 8m 30s\n",
      "1500:\ttest: 0.9666698\tbest: 0.9666698 (1500)\ttotal: 19m 33s\tremaining: 7m 13s\n",
      "1600:\ttest: 0.9667755\tbest: 0.9667755 (1600)\ttotal: 20m 53s\tremaining: 5m 55s\n",
      "1700:\ttest: 0.9668948\tbest: 0.9668966 (1699)\ttotal: 22m 13s\tremaining: 4m 37s\n",
      "1800:\ttest: 0.9669534\tbest: 0.9669534 (1800)\ttotal: 23m 34s\tremaining: 3m 19s\n",
      "1900:\ttest: 0.9670147\tbest: 0.9670147 (1900)\ttotal: 24m 54s\tremaining: 2m 1s\n",
      "2000:\ttest: 0.9670802\tbest: 0.9670805 (1998)\ttotal: 26m 14s\tremaining: 42.5s\n",
      "2054:\ttest: 0.9671198\tbest: 0.9671198 (2054)\ttotal: 26m 57s\tremaining: 0us\n",
      "\n",
      "bestTest = 0.9671198323\n",
      "bestIteration = 2054\n",
      "\n"
     ]
    }
   ],
   "source": [
    "NFOLDS = 5\n",
    "folds = StratifiedKFold(n_splits=NFOLDS, shuffle=True, random_state=42)\n",
    "oof_preds = np.zeros(len(X))\n",
    "test_preds = np.zeros(len(test_df))\n",
    "for fold_, (trn_idx, val_idx) in enumerate(folds.split(X, y)):\n",
    "    print(f\"\\n--- Starting Fold {fold_ + 1}/{NFOLDS} ---\")\n",
    "    \n",
    "    trn_data = X.iloc[trn_idx]\n",
    "    val_data = X.iloc[val_idx]\n",
    "    trn_y = y.iloc[trn_idx]\n",
    "    val_y = y.iloc[val_idx]\n",
    "    \n",
    "    model = CatBoostClassifier(**best_params)\n",
    "    \n",
    "    model.fit(trn_data, trn_y, cat_features=cat_cols,\n",
    "              eval_set=(val_data, val_y), use_best_model=True)\n",
    "    \n",
    "    oof_preds[val_idx] = model.predict_proba(val_data)[:, 1]\n",
    "    test_preds += model.predict_proba(test_df)[:, 1] / NFOLDS"
   ]
  },
  {
   "cell_type": "code",
   "execution_count": 19,
   "metadata": {
    "execution": {
     "iopub.execute_input": "2025-08-20T09:29:50.812888Z",
     "iopub.status.busy": "2025-08-20T09:29:50.811994Z",
     "iopub.status.idle": "2025-08-20T09:29:51.165296Z",
     "shell.execute_reply": "2025-08-20T09:29:51.164613Z",
     "shell.execute_reply.started": "2025-08-20T09:29:50.812863Z"
    },
    "trusted": true
   },
   "outputs": [
    {
     "name": "stdout",
     "output_type": "stream",
     "text": [
      "OOF (Out-of-Fold) ROC AUC Score: 0.9673219211669997\n"
     ]
    }
   ],
   "source": [
    "print(\"OOF (Out-of-Fold) ROC AUC Score:\", roc_auc_score(y, oof_preds))"
   ]
  },
  {
   "cell_type": "code",
   "execution_count": 21,
   "metadata": {
    "execution": {
     "iopub.execute_input": "2025-08-20T09:30:43.478466Z",
     "iopub.status.busy": "2025-08-20T09:30:43.477693Z",
     "iopub.status.idle": "2025-08-20T09:30:44.005705Z",
     "shell.execute_reply": "2025-08-20T09:30:44.004865Z",
     "shell.execute_reply.started": "2025-08-20T09:30:43.478441Z"
    },
    "trusted": true
   },
   "outputs": [],
   "source": [
    "submission = pd.DataFrame({'id': test_id_placeholder, 'y': test_preds})\n",
    "\n",
    "submission.to_csv('submission2.csv', index=False)"
   ]
  },
  {
   "cell_type": "code",
   "execution_count": null,
   "metadata": {
    "trusted": true
   },
   "outputs": [],
   "source": []
  }
 ],
 "metadata": {
  "kaggle": {
   "accelerator": "nvidiaTeslaT4",
   "dataSources": [
    {
     "datasetId": 8102682,
     "sourceId": 12814059,
     "sourceType": "datasetVersion"
    }
   ],
   "dockerImageVersionId": 31090,
   "isGpuEnabled": true,
   "isInternetEnabled": true,
   "language": "python",
   "sourceType": "notebook"
  },
  "kernelspec": {
   "display_name": "Python 3",
   "language": "python",
   "name": "python3"
  },
  "language_info": {
   "codemirror_mode": {
    "name": "ipython",
    "version": 3
   },
   "file_extension": ".py",
   "mimetype": "text/x-python",
   "name": "python",
   "nbconvert_exporter": "python",
   "pygments_lexer": "ipython3",
   "version": "3.11.13"
  }
 },
 "nbformat": 4,
 "nbformat_minor": 4
}
